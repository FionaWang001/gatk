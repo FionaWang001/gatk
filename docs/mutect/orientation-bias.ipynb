{
 "cells": [
  {
   "cell_type": "code",
   "execution_count": 7,
   "metadata": {
    "collapsed": true
   },
   "outputs": [],
   "source": [
    "%matplotlib inline\n",
    "\n",
    "import numpy\n",
    "import matplotlib.pyplot as plt\n",
    "import daft"
   ]
  },
  {
   "cell_type": "code",
   "execution_count": 65,
   "metadata": {},
   "outputs": [
    {
     "data": {
      "image/png": "[encoded data removed]",
      "text/plain": [
       "<matplotlib.figure.Figure at 0x107d28650>"
      ]
     },
     "metadata": {},
     "output_type": "display_data"
    }
   ],
   "source": [
    "pgm = daft.PGM((4,6), origin = (0.5, 0.5))\n",
    "pgm.add_node(daft.Node('context', 'C', 1, 6, observed=True))\n",
    "pgm.add_node(daft.Node('z', 'Z', 2, 5))\n",
    "pgm.add_node(daft.Node('fraction', 'f', 2, 4))\n",
    "pgm.add_node(daft.Node('allele', 'A', 2, 3, observed=True))\n",
    "pgm.add_node(daft.Node('orientation', 'O', 1, 2, observed=True))\n",
    "\n",
    "pgm.add_edge('context','z')\n",
    "pgm.add_edge('z','fraction')\n",
    "pgm.add_edge('fraction','allele')\n",
    "pgm.add_edge('allele','orientation')\n",
    "\n",
    "pgm.add_edge('context','orientation')\n",
    "pgm.add_edge('z','orientation')\n",
    "\n",
    "tweak=0.2\n",
    "pgm.add_plate(daft.Plate((0.5, 1.5, 2.5, 2), label='Reads', label_offset=(100,10)))\n",
    "\n",
    "pgm.render()\n",
    "pgm.figure.savefig(\"pgm.png\")"
   ]
  },
  {
   "cell_type": "code",
   "execution_count": null,
   "metadata": {
    "collapsed": true
   },
   "outputs": [],
   "source": []
  }
 ],
 "metadata": {
  "kernelspec": {
   "display_name": "Python 2",
   "language": "python",
   "name": "python2"
  },
  "language_info": {
   "codemirror_mode": {
    "name": "ipython",
    "version": 2
   },
   "file_extension": ".py",
   "mimetype": "text/x-python",
   "name": "python",
   "nbconvert_exporter": "python",
   "pygments_lexer": "ipython2",
   "version": "2.7.11"
  }
 },
 "nbformat": 4,
 "nbformat_minor": 2
}
